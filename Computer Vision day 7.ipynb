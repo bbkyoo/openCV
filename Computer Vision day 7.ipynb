{
 "cells": [
  {
   "cell_type": "markdown",
   "id": "373fc5d8",
   "metadata": {},
   "source": [
    "## 영상 분할"
   ]
  },
  {
   "cell_type": "code",
   "execution_count": 26,
   "id": "6dda5823",
   "metadata": {},
   "outputs": [],
   "source": [
    "import cv2\n",
    "import numpy as np"
   ]
  },
  {
   "cell_type": "markdown",
   "id": "a6880143",
   "metadata": {},
   "source": [
    "* 색상 범위 지정에 의한 영상 분할"
   ]
  },
  {
   "cell_type": "code",
   "execution_count": 27,
   "id": "79e9b8e5",
   "metadata": {},
   "outputs": [],
   "source": [
    "src = cv2.imread('./data/hand.jpg')\n",
    "hsv = cv2.cvtColor(src, cv2.COLOR_BGR2HSV)"
   ]
  },
  {
   "cell_type": "code",
   "execution_count": 28,
   "id": "f7d4f29e",
   "metadata": {},
   "outputs": [],
   "source": [
    "lowerb = (10 , 40, 0)\n",
    "upperb = (20 , 180, 255)\n",
    "\n",
    "dst = cv2.inRange(hsv, lowerb, upperb)"
   ]
  },
  {
   "cell_type": "code",
   "execution_count": 29,
   "id": "d945e8bf",
   "metadata": {},
   "outputs": [],
   "source": [
    "cv2.imshow(\"src\", src)                                                                                                                                                                                                                                                                                                                                                                                                                                                                                                                                                                                                                                                                                                                                                                                                                                                                                                                                                                                                                                                                                                                                                                                                                                                                                                                                                                                                                                                                                                                                                                                                                                                                                                                                                                                                                                                               \n",
    "cv2.imshow(\"dst\", dst)\n",
    "cv2.waitKey()\n",
    "cv2.destroyAllWindows()"
   ]
  },
  {
   "cell_type": "code",
   "execution_count": 31,
   "id": "4d55462c",
   "metadata": {},
   "outputs": [],
   "source": [
    "src = cv2.imread('./data/flower.jpg')\n",
    "hsv = cv2.cvtColor(src, cv2.COLOR_BGR2HSV)\n",
    "\n",
    "lowerb = (100 , 100, 100)\n",
    "upperb = (170 , 255, 255)\n",
    "\n",
    "dst = cv2.inRange(hsv, lowerb, upperb)\n",
    "\n",
    "cv2.imshow(\"src\", src)                                                                                                                                                                                                                                                                                                                                                                                                                                                                                                                                                                                                                                                                                                                                                                                                                                                                                                                                                                                                                                                                                                                                                                                                                                                                                                                                                                                                                                                                                                                                                                                                                                                                                                                                                                                                                                                             \n",
    "cv2.imshow(\"dst\", dst)\n",
    "cv2.waitKey()\n",
    "cv2.destroyAllWindows()"
   ]
  },
  {
   "cell_type": "code",
   "execution_count": 47,
   "id": "4cd04d94",
   "metadata": {},
   "outputs": [],
   "source": [
    "def onChange(pos):\n",
    "    global src, hsv\n",
    "       \n",
    "    lh = cv2.getTrackbarPos('lowerb', 'src')\n",
    "    uh = cv2.getTrackbarPos('upperb', 'src')\n",
    "\n",
    "    dst = cv2.inRange(hsv, (lh,100,0), (uh,255,255))\n",
    "    cv2.imshow('dst', dst)    \n",
    "    \n",
    "src = cv2.imread('./data/candies.png')    \n",
    "hsv = cv2.cvtColor(src, cv2.COLOR_BGR2HSV)\n",
    "cv2.imshow('src', src)\n",
    "\n",
    "cv2.createTrackbar('lowerb', 'src', 0, 255, onChange)\n",
    "cv2.createTrackbar('upperb', 'src', 0, 255, onChange)\n",
    "\n",
    "cv2.setTrackbarPos('lowerb', 'src', 40)\n",
    "cv2.setTrackbarPos('upperb', 'src', 80)\n",
    "\n",
    "cv2.waitKey()\n",
    "cv2.destroyAllWindows()"
   ]
  }
 ],
 "metadata": {
  "kernelspec": {
   "display_name": "Python 3",
   "language": "python",
   "name": "python3"
  },
  "language_info": {
   "codemirror_mode": {
    "name": "ipython",
    "version": 3
   },
   "file_extension": ".py",
   "mimetype": "text/x-python",
   "name": "python",
   "nbconvert_exporter": "python",
   "pygments_lexer": "ipython3",
   "version": "3.8.8"
  }
 },
 "nbformat": 4,
 "nbformat_minor": 5
}
