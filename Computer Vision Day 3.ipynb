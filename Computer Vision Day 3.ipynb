{
 "cells": [
  {
   "cell_type": "markdown",
   "id": "5c2cdc7d",
   "metadata": {},
   "source": [
    "* 키보드 이벤트 처리"
   ]
  },
  {
   "cell_type": "code",
   "execution_count": 1,
   "id": "dbf42093",
   "metadata": {},
   "outputs": [],
   "source": [
    "import numpy as np\n",
    "import cv2"
   ]
  },
  {
   "cell_type": "code",
   "execution_count": 2,
   "id": "a9361df6",
   "metadata": {},
   "outputs": [],
   "source": [
    "width, height = 512, 512\n",
    "x, y = width//2, height//2\n",
    "R = 50"
   ]
  },
  {
   "cell_type": "code",
   "execution_count": 3,
   "id": "a10a5dba",
   "metadata": {},
   "outputs": [],
   "source": [
    "direction = 0  # 0 : right, 1: down, 2: left, 3: up"
   ]
  },
  {
   "cell_type": "code",
   "execution_count": 4,
   "id": "a731e8e8",
   "metadata": {},
   "outputs": [],
   "source": [
    "while True:\n",
    "    key = cv2.waitKeyEx(30)\n",
    "    if key == 0x1B:\n",
    "        break\n",
    "        \n",
    "    # 방향키처리    \n",
    "    elif key == 0x270000: # right\n",
    "        direction = 0\n",
    "    elif key == 0x280000: # down\n",
    "        direction = 1\n",
    "    elif key == 0x250000: # left\n",
    "        direction = 2\n",
    "    elif key == 0x260000: # up\n",
    "        direction = 3\n",
    "    \n",
    "    # 방향에 맞게 x, y 좌표 설정\n",
    "    \n",
    "    if direction == 0:\n",
    "        x += 10\n",
    "    elif direction == 1:\n",
    "        y += 10\n",
    "    elif direction == 2:\n",
    "        x -= 10\n",
    "    else:\n",
    "        y -= 10    \n",
    "    \n",
    "    # 경계확인\n",
    "    if x < R:\n",
    "        x = R\n",
    "        direction = 0\n",
    "    if x > width - R:\n",
    "        x = width - R\n",
    "        direction = 2\n",
    "    \n",
    "    if y < R:\n",
    "        y = R\n",
    "        direction = 1\n",
    "    if y > height - R:\n",
    "        y = height - R\n",
    "        direction = 3\n",
    "    \n",
    "    # 지우기, 그리기\n",
    "    \n",
    "    img = np.zeros((width, height, 3), np.uint8) + 255\n",
    "    cv2.circle(img, (x, y), R, (0,0,255), -1)\n",
    "    cv2.imshow('img', img)\n",
    "    \n",
    "cv2.destroyAllWindows()\n",
    "    "
   ]
  },
  {
   "cell_type": "markdown",
   "id": "073be26a",
   "metadata": {},
   "source": [
    "* 마우스 이벤트 처리"
   ]
  },
  {
   "cell_type": "code",
   "execution_count": 5,
   "id": "00d4e6f5",
   "metadata": {},
   "outputs": [],
   "source": [
    "img = np.zeros((512,512,3), np.uint8) + 255\n",
    "\n",
    "def onMouse(event, x, y, flags, param):\n",
    "    if event == cv2.EVENT_LBUTTONDOWN:\n",
    "        if flags & cv2.EVENT_FLAG_SHIFTKEY:\n",
    "            cv2.rectangle(param[0], (x-5, y-5), (x+5, y+5), (255,0,0), 3)\n",
    "        else:\n",
    "            cv2.circle(param[0], (x, y), 5, (255,0,0), 3)\n",
    "        \n",
    "    elif event == cv2.EVENT_RBUTTONDOWN:\n",
    "        cv2.circle(param[0], (x, y), 5, (0,0,255), 3)            \n",
    "        \n",
    "    elif event == cv2.EVENT_LBUTTONDBLCLK:\n",
    "        param[0] = np.zeros((512,512,3), np.uint8) + 255\n",
    "        \n",
    "    cv2.imshow('img', param[0])\n",
    "\n",
    "cv2.imshow('img', img)\n",
    "\n",
    "cv2.setMouseCallback('img', onMouse, [img])\n",
    "cv2.waitKey()\n",
    "cv2.destroyAllWindows()"
   ]
  },
  {
   "cell_type": "markdown",
   "id": "88db2ff5",
   "metadata": {},
   "source": [
    "* 트랙바 이벤트 처리"
   ]
  },
  {
   "cell_type": "code",
   "execution_count": 6,
   "id": "41afef6a",
   "metadata": {},
   "outputs": [],
   "source": [
    "def onChange(pos):\n",
    "    global img\n",
    "    r = cv2.getTrackbarPos('R', 'img')\n",
    "    g = cv2.getTrackbarPos('G', 'img')\n",
    "    b = cv2.getTrackbarPos('B', 'img')\n",
    "\n",
    "    img[:] = (b,g,r)\n",
    "    cv2.imshow('img', img)    \n",
    "    \n",
    "img = np.zeros((512,512,3), np.uint8) + 255\n",
    "cv2.imshow('img', img)\n",
    "\n",
    "cv2.createTrackbar('R', 'img', 0, 255, onChange)\n",
    "cv2.createTrackbar('G', 'img', 0, 255, onChange)\n",
    "cv2.createTrackbar('B', 'img', 0, 255, onChange)\n",
    "\n",
    "cv2.setTrackbarPos('B', 'img', 255)\n",
    "\n",
    "cv2.waitKey()\n",
    "cv2.destroyAllWindows()"
   ]
  },
  {
   "cell_type": "code",
   "execution_count": 15,
   "id": "2ccf3d5f",
   "metadata": {},
   "outputs": [
    {
     "data": {
      "text/plain": [
       "array([5, 6])"
      ]
     },
     "execution_count": 15,
     "metadata": {},
     "output_type": "execute_result"
    }
   ],
   "source": [
    "a2 = np.array([[1,2,3],[4,5,6]])\n",
    "a2[1,1:]"
   ]
  },
  {
   "cell_type": "markdown",
   "id": "daf64106",
   "metadata": {},
   "source": [
    "## OpenCV 기본연산"
   ]
  },
  {
   "cell_type": "markdown",
   "id": "0f5846e9",
   "metadata": {},
   "source": [
    "* 형상(shape), 자료형(dtype)"
   ]
  },
  {
   "cell_type": "code",
   "execution_count": 17,
   "id": "20ed741b",
   "metadata": {},
   "outputs": [
    {
     "data": {
      "text/plain": [
       "numpy.ndarray"
      ]
     },
     "execution_count": 17,
     "metadata": {},
     "output_type": "execute_result"
    }
   ],
   "source": [
    "img = cv2.imread('./data/lena.jpg') # cv2.IMREAD_COLOR\n",
    "type(img)"
   ]
  },
  {
   "cell_type": "code",
   "execution_count": 18,
   "id": "163cd7c8",
   "metadata": {},
   "outputs": [
    {
     "data": {
      "text/plain": [
       "3"
      ]
     },
     "execution_count": 18,
     "metadata": {},
     "output_type": "execute_result"
    }
   ],
   "source": [
    "img.ndim"
   ]
  },
  {
   "cell_type": "code",
   "execution_count": 19,
   "id": "4de399f3",
   "metadata": {},
   "outputs": [
    {
     "data": {
      "text/plain": [
       "(512, 512, 3)"
      ]
     },
     "execution_count": 19,
     "metadata": {},
     "output_type": "execute_result"
    }
   ],
   "source": [
    "img.shape"
   ]
  },
  {
   "cell_type": "code",
   "execution_count": 20,
   "id": "d1150ed0",
   "metadata": {},
   "outputs": [
    {
     "data": {
      "text/plain": [
       "dtype('uint8')"
      ]
     },
     "execution_count": 20,
     "metadata": {},
     "output_type": "execute_result"
    }
   ],
   "source": [
    "img.dtype"
   ]
  },
  {
   "cell_type": "code",
   "execution_count": 21,
   "id": "deb6b419",
   "metadata": {},
   "outputs": [],
   "source": [
    "img = img.astype(np.int32)"
   ]
  },
  {
   "cell_type": "code",
   "execution_count": 22,
   "id": "cf6e545c",
   "metadata": {},
   "outputs": [],
   "source": [
    "img = np.uint8(img)"
   ]
  },
  {
   "cell_type": "code",
   "execution_count": 23,
   "id": "72a7cb28",
   "metadata": {},
   "outputs": [
    {
     "data": {
      "text/plain": [
       "dtype('uint8')"
      ]
     },
     "execution_count": 23,
     "metadata": {},
     "output_type": "execute_result"
    }
   ],
   "source": [
    "img.dtype"
   ]
  },
  {
   "cell_type": "markdown",
   "id": "56a996aa",
   "metadata": {},
   "source": [
    "* 모양 변경하기"
   ]
  },
  {
   "cell_type": "code",
   "execution_count": 25,
   "id": "1b97cb4b",
   "metadata": {},
   "outputs": [],
   "source": [
    "img = cv2.imread('./data/lena.jpg', cv2.IMREAD_GRAYSCALE)"
   ]
  },
  {
   "cell_type": "code",
   "execution_count": 26,
   "id": "6aa5a194",
   "metadata": {},
   "outputs": [
    {
     "data": {
      "text/plain": [
       "(512, 512)"
      ]
     },
     "execution_count": 26,
     "metadata": {},
     "output_type": "execute_result"
    }
   ],
   "source": [
    "img.shape"
   ]
  },
  {
   "cell_type": "code",
   "execution_count": 27,
   "id": "4e731ca0",
   "metadata": {},
   "outputs": [
    {
     "data": {
      "text/plain": [
       "262144"
      ]
     },
     "execution_count": 27,
     "metadata": {},
     "output_type": "execute_result"
    }
   ],
   "source": [
    "512 * 512"
   ]
  },
  {
   "cell_type": "code",
   "execution_count": 28,
   "id": "b9dd35bb",
   "metadata": {},
   "outputs": [],
   "source": [
    "img = img.flatten()"
   ]
  },
  {
   "cell_type": "code",
   "execution_count": 29,
   "id": "dab87f63",
   "metadata": {},
   "outputs": [
    {
     "data": {
      "text/plain": [
       "(262144,)"
      ]
     },
     "execution_count": 29,
     "metadata": {},
     "output_type": "execute_result"
    }
   ],
   "source": [
    "img.shape"
   ]
  },
  {
   "cell_type": "code",
   "execution_count": 30,
   "id": "8f832a8c",
   "metadata": {},
   "outputs": [],
   "source": [
    "img = img.reshape(512,512)"
   ]
  },
  {
   "cell_type": "code",
   "execution_count": 31,
   "id": "4cc9845a",
   "metadata": {},
   "outputs": [
    {
     "data": {
      "text/plain": [
       "(512, 512)"
      ]
     },
     "execution_count": 31,
     "metadata": {},
     "output_type": "execute_result"
    }
   ],
   "source": [
    "img.shape"
   ]
  },
  {
   "cell_type": "code",
   "execution_count": 32,
   "id": "4e2f7e6d",
   "metadata": {},
   "outputs": [],
   "source": [
    "img = img.flatten()"
   ]
  },
  {
   "cell_type": "code",
   "execution_count": 33,
   "id": "3e7955b2",
   "metadata": {},
   "outputs": [],
   "source": [
    "img = img.reshape(-1, 512, 512)"
   ]
  },
  {
   "cell_type": "code",
   "execution_count": 34,
   "id": "84f9ae12",
   "metadata": {},
   "outputs": [
    {
     "data": {
      "text/plain": [
       "(1, 512, 512)"
      ]
     },
     "execution_count": 34,
     "metadata": {},
     "output_type": "execute_result"
    }
   ],
   "source": [
    "img.shape"
   ]
  },
  {
   "cell_type": "markdown",
   "id": "bc3cfc23",
   "metadata": {},
   "source": [
    "* 화소 접근 1 : 그레이 스케일영상 "
   ]
  },
  {
   "cell_type": "code",
   "execution_count": 36,
   "id": "0bcfd0f0",
   "metadata": {},
   "outputs": [],
   "source": [
    "img = cv2.imread('./data/lena.jpg', cv2.IMREAD_GRAYSCALE)\n",
    "\n",
    "img[100, 200] = 0\n",
    "\n",
    "img[100:400, 200:500] = 0\n",
    "\n",
    "cv2.imshow('img', img)\n",
    "cv2.waitKey()\n",
    "cv2.destroyAllWindows()"
   ]
  },
  {
   "cell_type": "markdown",
   "id": "2e38b9c1",
   "metadata": {},
   "source": [
    "* 화소 접근 2 : 컬러 영상 "
   ]
  },
  {
   "cell_type": "code",
   "execution_count": 42,
   "id": "6bae3a33",
   "metadata": {},
   "outputs": [],
   "source": [
    "img = cv2.imread('./data/lena.jpg', cv2.IMREAD_COLOR)\n",
    "\n",
    "img[100, 200] = [255,0,0]\n",
    "\n",
    "img[100:400, 200:300] = [255,0,0]\n",
    "\n",
    "cv2.imshow('img', img)\n",
    "cv2.waitKey()\n",
    "cv2.destroyAllWindows()"
   ]
  },
  {
   "cell_type": "markdown",
   "id": "dd689ee3",
   "metadata": {},
   "source": [
    "* 화소 접근 3 : 채널 접근"
   ]
  },
  {
   "cell_type": "code",
   "execution_count": 44,
   "id": "9405f951",
   "metadata": {},
   "outputs": [],
   "source": [
    "img = cv2.imread('./data/lena.jpg', cv2.IMREAD_COLOR)\n",
    "\n",
    "img[100:400, 200:300, 0] = 255\n",
    "img[100:400, 200:300, 1] = 255\n",
    "img[100:400, 200:300, 2] = 255\n",
    " \n",
    "cv2.imshow('img', img)\n",
    "cv2.waitKey()\n",
    "cv2.destroyAllWindows()"
   ]
  },
  {
   "cell_type": "markdown",
   "id": "3a643df8",
   "metadata": {},
   "source": [
    "* 마우스로 ROI 영역 지정 : selecROI()"
   ]
  },
  {
   "cell_type": "code",
   "execution_count": 45,
   "id": "30e6a3f7",
   "metadata": {},
   "outputs": [],
   "source": [
    "src = cv2.imread('./data/lena.jpg', cv2.IMREAD_GRAYSCALE)\n",
    "roi = cv2.selectROI(src)\n",
    "\n",
    "img = src[roi[1]:roi[1]+roi[3], roi[0]:roi[0]+roi[2]]\n",
    "\n",
    "cv2.imshow('img', img)\n",
    "cv2.waitKey()\n",
    "cv2.destroyAllWindows()"
   ]
  },
  {
   "cell_type": "code",
   "execution_count": 46,
   "id": "e93b7a9a",
   "metadata": {},
   "outputs": [
    {
     "data": {
      "text/plain": [
       "(118, 85, 267, 301)"
      ]
     },
     "execution_count": 46,
     "metadata": {},
     "output_type": "execute_result"
    }
   ],
   "source": [
    "roi"
   ]
  },
  {
   "cell_type": "markdown",
   "id": "c9797130",
   "metadata": {},
   "source": [
    "* 마우스로 다중 ROI 영역 지정: selecROIs()"
   ]
  },
  {
   "cell_type": "code",
   "execution_count": 4,
   "id": "8ade4ef5",
   "metadata": {},
   "outputs": [],
   "source": [
    "src = cv2.imread('./data/lena.jpg', cv2.IMREAD_GRAYSCALE)\n",
    "rois = cv2.selectROIs('src' ,src, True, False)\n",
    "\n",
    "for r in rois:\n",
    "    cv2.rectangle(src, (r[0], r[1]), (r[0]+r[2], r[1]+r[3]),255)\n",
    "    \n",
    "cv2.imshow('src', src)\n",
    "cv2.waitKey()\n",
    "cv2.destroyAllWindows()    "
   ]
  },
  {
   "cell_type": "code",
   "execution_count": 5,
   "id": "0f329f7f",
   "metadata": {},
   "outputs": [
    {
     "data": {
      "text/plain": [
       "array([[ 58,  64, 171, 200],\n",
       "       [277,  95, 140, 231],\n",
       "       [290, 319, 120, 156]], dtype=int32)"
      ]
     },
     "execution_count": 5,
     "metadata": {},
     "output_type": "execute_result"
    }
   ],
   "source": [
    "rois"
   ]
  },
  {
   "cell_type": "markdown",
   "id": "7a8d04c7",
   "metadata": {},
   "source": [
    "* 블록 평균 영상"
   ]
  },
  {
   "cell_type": "code",
   "execution_count": 24,
   "id": "47f502e3",
   "metadata": {},
   "outputs": [],
   "source": [
    "src = cv2.imread('./data/lena.jpg', cv2.IMREAD_GRAYSCALE)\n",
    "dst = np.zeros(src.shape ,dtype=src.dtype)\n",
    "\n",
    "src.shape\n",
    "\n",
    "N = 4\n",
    "height, width = src.shape\n",
    "\n",
    "h = height // N\n",
    "w = width // N\n",
    "\n",
    "for i in range(N):\n",
    "    for j in range(N):\n",
    "        x = j*w\n",
    "        y = i*h\n",
    "        roi = src[y:y+h, x:x+w]\n",
    "        dst[y:y+h, x:x+w] = roi.mean()\n",
    "        \n",
    "cv2.imshow('dst', dst)\n",
    "cv2.waitKey()\n",
    "cv2.destroyAllWindows()        "
   ]
  },
  {
   "cell_type": "markdown",
   "id": "706d278b",
   "metadata": {},
   "source": [
    "* 영상 복사"
   ]
  },
  {
   "cell_type": "code",
   "execution_count": 25,
   "id": "daf0c58d",
   "metadata": {},
   "outputs": [],
   "source": [
    "src = cv2.imread('./data/lena.jpg', cv2.IMREAD_GRAYSCALE)\n",
    "\n",
    "# dst = src # 참조\n",
    "dst = src.copy() # 복사\n",
    "\n",
    "dst[100:400, 200:300] = 0\n",
    "\n",
    "cv2.imshow('src', src)\n",
    "cv2.imshow('dst', dst)\n",
    "cv2.waitKey()\n",
    "cv2.destroyAllWindows()\n"
   ]
  },
  {
   "cell_type": "code",
   "execution_count": 29,
   "id": "2e14277f",
   "metadata": {},
   "outputs": [],
   "source": [
    "src = cv2.imread('./data/lena.jpg', cv2.IMREAD_GRAYSCALE)\n",
    "\n",
    "shape = src.shape[0], src.shape[1], 3\n",
    "dst = np.zeros(shape, dtype=np.uint8)\n",
    "\n",
    "# dst[:, :, 0] = src\n",
    "# dst[:, :, 1] = src\n",
    "dst[:, :, 2] = src\n",
    "\n",
    "cv2.imshow('src', src)\n",
    "cv2.imshow('dst', dst)\n",
    "cv2.waitKey()\n",
    "cv2.destroyAllWindows()\n"
   ]
  },
  {
   "cell_type": "markdown",
   "id": "617eaa88",
   "metadata": {},
   "source": [
    "* 채널 분리"
   ]
  },
  {
   "cell_type": "code",
   "execution_count": 30,
   "id": "e53e8649",
   "metadata": {},
   "outputs": [],
   "source": [
    "src = cv2.imread('./data/lena.jpg')\n",
    "\n",
    "dst = cv2.split(src)\n",
    "\n",
    "cv2.imshow('src', src)\n",
    "cv2.imshow('blue', dst[0])\n",
    "cv2.imshow('green', dst[1])\n",
    "cv2.imshow('red', dst[2])\n",
    "\n",
    "cv2.waitKey()\n",
    "cv2.destroyAllWindows()"
   ]
  },
  {
   "cell_type": "code",
   "execution_count": 32,
   "id": "a760af97",
   "metadata": {},
   "outputs": [
    {
     "data": {
      "text/plain": [
       "3"
      ]
     },
     "execution_count": 32,
     "metadata": {},
     "output_type": "execute_result"
    }
   ],
   "source": [
    "len(dst)"
   ]
  },
  {
   "cell_type": "code",
   "execution_count": 33,
   "id": "6cebb08b",
   "metadata": {},
   "outputs": [
    {
     "data": {
      "text/plain": [
       "(512, 512)"
      ]
     },
     "execution_count": 33,
     "metadata": {},
     "output_type": "execute_result"
    }
   ],
   "source": [
    "dst[0].shape"
   ]
  },
  {
   "cell_type": "code",
   "execution_count": 34,
   "id": "886b7abc",
   "metadata": {},
   "outputs": [
    {
     "data": {
      "text/plain": [
       "array([[138, 137, 136, ..., 145, 129, 104],\n",
       "       [137, 137, 137, ..., 150, 132, 102],\n",
       "       [137, 137, 138, ..., 148, 133, 105],\n",
       "       ...,\n",
       "       [ 21,  20,  28, ...,  71,  68,  65],\n",
       "       [ 18,  19,  32, ...,  69,  71,  72],\n",
       "       [ 19,  21,  34, ...,  68,  72,  74]], dtype=uint8)"
      ]
     },
     "execution_count": 34,
     "metadata": {},
     "output_type": "execute_result"
    }
   ],
   "source": [
    "dst[1]"
   ]
  },
  {
   "cell_type": "code",
   "execution_count": 35,
   "id": "ede33116",
   "metadata": {},
   "outputs": [
    {
     "data": {
      "text/plain": [
       "array([[225, 224, 224, ..., 236, 220, 197],\n",
       "       [224, 224, 224, ..., 235, 217, 189],\n",
       "       [224, 224, 225, ..., 230, 215, 190],\n",
       "       ...,\n",
       "       [ 82,  81,  92, ..., 175, 175, 175],\n",
       "       [ 80,  81,  96, ..., 177, 181, 183],\n",
       "       [ 81,  83,  98, ..., 176, 183, 188]], dtype=uint8)"
      ]
     },
     "execution_count": 35,
     "metadata": {},
     "output_type": "execute_result"
    }
   ],
   "source": [
    "dst[2]"
   ]
  },
  {
   "cell_type": "code",
   "execution_count": 7,
   "id": "2887f2e6",
   "metadata": {},
   "outputs": [],
   "source": [
    "src = cv2.imread('./data/candies.png')\n",
    "\n",
    "dst = cv2.split(src)\n",
    "\n",
    "cv2.imshow('src', src)\n",
    "cv2.imshow('blue', dst[0])\n",
    "cv2.imshow('green', dst[1])\n",
    "cv2.imshow('red', dst[2])\n",
    "\n",
    "cv2.waitKey()\n",
    "cv2.destroyAllWindows()"
   ]
  },
  {
   "cell_type": "markdown",
   "id": "b3e11789",
   "metadata": {},
   "source": [
    "* 채널 병합"
   ]
  },
  {
   "cell_type": "code",
   "execution_count": 8,
   "id": "15cf367c",
   "metadata": {},
   "outputs": [],
   "source": [
    "merge = cv2.merge([dst[0], dst[1], dst[2]])\n",
    "\n",
    "cv2.imshow('merge', merge)\n",
    "cv2.waitKey()\n",
    "cv2.destroyAllWindows()"
   ]
  },
  {
   "cell_type": "markdown",
   "id": "04d098b9",
   "metadata": {},
   "source": [
    "* 색 변환"
   ]
  },
  {
   "cell_type": "code",
   "execution_count": 9,
   "id": "c55b2d19",
   "metadata": {},
   "outputs": [],
   "source": [
    "src = cv2.imread(\"./data/lena.jpg\")\n",
    "\n",
    "gray = cv2.cvtColor(src, cv2.COLOR_BGR2GRAY)\n",
    "yCrCb = cv2.cvtColor(src, cv2.COLOR_BGR2YCrCb)\n",
    "hsv = cv2.cvtColor(src, cv2.COLOR_BGR2HSV)\n",
    "\n",
    "cv2.imshow(\"gray\", gray)\n",
    "cv2.imshow(\"yCrCb\", yCrCb)\n",
    "cv2.imshow(\"hsv\", hsv)\n",
    "\n",
    "cv2.waitKey()\n",
    "cv2.destroyAllWindows()"
   ]
  },
  {
   "cell_type": "code",
   "execution_count": 14,
   "id": "97fa6234",
   "metadata": {},
   "outputs": [],
   "source": [
    "bgr = cv2.cvtColor(gray, cv2.COLOR_GRAY2BGR)\n",
    "cv2.imshow(\"bgr\", bgr)\n",
    "cv2.waitKey()\n",
    "cv2.destroyAllWindows()"
   ]
  },
  {
   "cell_type": "code",
   "execution_count": 15,
   "id": "285357f7",
   "metadata": {},
   "outputs": [
    {
     "data": {
      "text/plain": [
       "(512, 512, 3)"
      ]
     },
     "execution_count": 15,
     "metadata": {},
     "output_type": "execute_result"
    }
   ],
   "source": [
    "bgr.shape"
   ]
  },
  {
   "cell_type": "code",
   "execution_count": 16,
   "id": "ad661df0",
   "metadata": {},
   "outputs": [
    {
     "data": {
      "text/plain": [
       "262144"
      ]
     },
     "execution_count": 16,
     "metadata": {},
     "output_type": "execute_result"
    }
   ],
   "source": [
    "512 * 512"
   ]
  },
  {
   "cell_type": "code",
   "execution_count": 17,
   "id": "79db3699",
   "metadata": {},
   "outputs": [
    {
     "data": {
      "text/plain": [
       "262144"
      ]
     },
     "execution_count": 17,
     "metadata": {},
     "output_type": "execute_result"
    }
   ],
   "source": [
    "(bgr[:, :, 2] == gray).sum()"
   ]
  },
  {
   "cell_type": "markdown",
   "id": "329f6581",
   "metadata": {},
   "source": [
    "* 영상 크기 변환"
   ]
  },
  {
   "cell_type": "code",
   "execution_count": 19,
   "id": "61a955ce",
   "metadata": {},
   "outputs": [],
   "source": [
    "src = cv2.imread(\"./data/lena.jpg\", cv2.IMREAD_GRAYSCALE)"
   ]
  },
  {
   "cell_type": "code",
   "execution_count": 21,
   "id": "3f36307f",
   "metadata": {},
   "outputs": [],
   "source": [
    "dst1 = cv2.resize(src, dsize = (320, 240))\n",
    "dst2 = cv2.resize(src, dsize = (0, 0), fx=1.5, fy=1.2)\n",
    "\n",
    "cv2.imshow('dst1', dst1)\n",
    "cv2.imshow('dst2', dst2)\n",
    "cv2.waitKey()\n",
    "cv2.destroyAllWindows()"
   ]
  },
  {
   "cell_type": "markdown",
   "id": "d40e5056",
   "metadata": {},
   "source": [
    "* 영상 회전 변환"
   ]
  },
  {
   "cell_type": "code",
   "execution_count": 23,
   "id": "259b5a20",
   "metadata": {},
   "outputs": [],
   "source": [
    "src = cv2.imread(\"./data/lena.jpg\")\n",
    "\n",
    "dst1 = cv2.rotate(src, cv2.ROTATE_90_CLOCKWISE)\n",
    "dst2 = cv2.rotate(src, cv2.ROTATE_90_COUNTERCLOCKWISE)\n",
    "\n",
    "cv2.imshow('dst1', dst1)\n",
    "cv2.imshow('dst2', dst2)\n",
    "cv2.waitKey()\n",
    "cv2.destroyAllWindows()"
   ]
  },
  {
   "cell_type": "code",
   "execution_count": 26,
   "id": "33879f42",
   "metadata": {},
   "outputs": [],
   "source": [
    "src = cv2.imread(\"./data/lena.jpg\")\n",
    "\n",
    "height, width, channels = src.shape\n",
    "\n",
    "M1 = cv2.getRotationMatrix2D((height/2, width/2), 45, 0.5)\n",
    "M2 = cv2.getRotationMatrix2D((height/2, width/2), -45, 0.5)\n",
    "\n",
    "dst1 = cv2.warpAffine(src, M1, (width, height))\n",
    "dst2 = cv2.warpAffine(src, M2, (width, height))\n",
    "\n",
    "cv2.imshow('dst1', dst1)\n",
    "cv2.imshow('dst2', dst2)\n",
    "cv2.waitKey()\n",
    "cv2.destroyAllWindows()"
   ]
  },
  {
   "cell_type": "markdown",
   "id": "d9f7f846",
   "metadata": {},
   "source": [
    "* 영상 어파인 변환 (모서리 3지점)"
   ]
  },
  {
   "cell_type": "code",
   "execution_count": 30,
   "id": "5b51728f",
   "metadata": {},
   "outputs": [],
   "source": [
    "src = cv2.imread(\"./data/tekapo.bmp\")\n",
    "\n",
    "height, width, channels = src.shape\n",
    "\n",
    "srcPts = np.float32([[0, 0], [width-1, 0], [width-1, height-1]])\n",
    "dstPts = np.float32([[50, 50], [width-100, 100], [width-50, height-50]])\n",
    "\n",
    "M = cv2.getAffineTransform(srcPts, dstPts)\n",
    "\n",
    "dst = cv2.warpAffine(src, M, (width, height))\n",
    "\n",
    "cv2.imshow('dst', dst)\n",
    "cv2.waitKey()\n",
    "cv2.destroyAllWindows()"
   ]
  },
  {
   "cell_type": "markdown",
   "id": "4b2360ac",
   "metadata": {},
   "source": [
    "* 영상 이동 변환"
   ]
  },
  {
   "cell_type": "code",
   "execution_count": 31,
   "id": "60c8265b",
   "metadata": {},
   "outputs": [],
   "source": [
    "src = cv2.imread(\"./data/tekapo.bmp\")\n",
    "\n",
    "height, width, channels = src.shape\n",
    "\n",
    "M = np.array([[1, 0, 150], \n",
    "             [0, 1, 100]], dtype=np.float64)\n",
    "\n",
    "dst = cv2.warpAffine(src, M, (width, height))\n",
    "\n",
    "cv2.imshow('dst', dst)\n",
    "cv2.waitKey()\n",
    "cv2.destroyAllWindows()"
   ]
  },
  {
   "cell_type": "markdown",
   "id": "1c46ea67",
   "metadata": {},
   "source": [
    "* 영상 대칭 변환"
   ]
  },
  {
   "cell_type": "code",
   "execution_count": 3,
   "id": "d2d17504",
   "metadata": {},
   "outputs": [],
   "source": [
    "src = cv2.imread(\"./data/eastsea.bmp\")\n",
    "cv2.imshow(\"src\", src)\n",
    "\n",
    "dst = cv2.flip(src, -1) # 1 : 좌우대칭, 0 : 상하대칭, -1 : 좌우, 상하대칭\n",
    "\n",
    "cv2.imshow(\"dst\", dst)\n",
    "cv2.waitKey()\n",
    "cv2.destroyAllWindows()"
   ]
  },
  {
   "cell_type": "markdown",
   "id": "a522978c",
   "metadata": {},
   "source": [
    "* 영상 투시 변환"
   ]
  },
  {
   "cell_type": "code",
   "execution_count": 26,
   "id": "5503e675",
   "metadata": {},
   "outputs": [],
   "source": [
    "height, width = 300, 200 \n",
    "\n",
    "cnt = 0\n",
    "\n",
    "srcQuad = np.zeros((4,2), dtype=np.float32)\n",
    "# dstQuad = np.zeros((4,2), dtypes=np.float32)\n",
    "dstQuad = np.array([[0,0], [width-1, 0], [width-1, height-1], [0, height-1]], dtype=np.float32)\n",
    "\n",
    "def onMouse(event, x, y, flags, param):\n",
    "    global cnt\n",
    "    \n",
    "    if event == cv2.EVENT_LBUTTONDOWN: \n",
    "        if cnt < 4:\n",
    "            srcQuad[cnt] = np.array([x, y], dtype=np.float32)\n",
    "            cv2.circle(param[0], (x, y), 5,(255,0,0), 2)\n",
    "            cv2.imshow(\"src\", param[0])\n",
    "            cnt += 1\n",
    "        if cnt == 4:\n",
    "            M = cv2.getPerspectiveTransform(srcQuad, dstQuad)\n",
    "            dst = cv2.warpPerspective(param[0], M, (width, height))   \n",
    "            cv2.imshow('dst', dst)\n",
    "            \n",
    "src = cv2.imread(\"./data/card.bmp\")\n",
    "cv2.imshow(\"src\", src)\n",
    "cv2.setMouseCallback('src', onMouse, [src])    \n",
    "cv2.waitKey()\n",
    "cv2.destroyAllWindows()"
   ]
  },
  {
   "cell_type": "code",
   "execution_count": null,
   "id": "8163d32d",
   "metadata": {},
   "outputs": [],
   "source": []
  }
 ],
 "metadata": {
  "kernelspec": {
   "display_name": "Python 3",
   "language": "python",
   "name": "python3"
  },
  "language_info": {
   "codemirror_mode": {
    "name": "ipython",
    "version": 3
   },
   "file_extension": ".py",
   "mimetype": "text/x-python",
   "name": "python",
   "nbconvert_exporter": "python",
   "pygments_lexer": "ipython3",
   "version": "3.8.8"
  }
 },
 "nbformat": 4,
 "nbformat_minor": 5
}
