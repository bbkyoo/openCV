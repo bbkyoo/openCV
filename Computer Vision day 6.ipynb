{
 "cells": [
  {
   "cell_type": "markdown",
   "id": "813bb92e",
   "metadata": {},
   "source": [
    "* 캐니 에지 검출기"
   ]
  },
  {
   "cell_type": "code",
   "execution_count": 2,
   "id": "cbcced5f",
   "metadata": {},
   "outputs": [],
   "source": [
    "import cv2\n",
    "import numpy as np"
   ]
  },
  {
   "cell_type": "code",
   "execution_count": 3,
   "id": "89faff31",
   "metadata": {},
   "outputs": [],
   "source": [
    "src = cv2.imread('./data/lena.jpg', cv2.IMREAD_GRAYSCALE)"
   ]
  },
  {
   "cell_type": "code",
   "execution_count": 6,
   "id": "2aaa651c",
   "metadata": {},
   "outputs": [],
   "source": [
    "edges1 = cv2.Canny(src, 50, 100) # src ,낮은임계값, 높은임계값 (1:2나 1:3 비율 권장)\n",
    "edges2 = cv2.Canny(src, 50, 150)\n",
    "edges3 = cv2.Canny(src, 50, 200)"
   ]
  },
  {
   "cell_type": "code",
   "execution_count": 7,
   "id": "d9615b26",
   "metadata": {},
   "outputs": [],
   "source": [
    "cv2.imshow('edges1', edges1)\n",
    "cv2.imshow('edges2', edges2)\n",
    "cv2.imshow('edges3', edges3)\n",
    "cv2.waitKey()\n",
    "cv2.destroyAllWindows()"
   ]
  },
  {
   "cell_type": "markdown",
   "id": "0ea081b1",
   "metadata": {},
   "source": [
    "* 허프 변환 직선 검출 "
   ]
  },
  {
   "cell_type": "code",
   "execution_count": 8,
   "id": "2e91522a",
   "metadata": {},
   "outputs": [],
   "source": [
    "src = cv2.imread('./data/rect.jpg')\n",
    "\n",
    "gray = cv2.cvtColor(src, cv2.COLOR_BGR2GRAY)\n",
    "\n",
    "edges = cv2.Canny(gray, 50, 100)\n",
    "lines = cv2.HoughLines(edges, rho=1, theta=np.pi/180.0, threshold=100)\n",
    "\n",
    "for line in lines:\n",
    "    rho, theta   = line[0]\n",
    "    c = np.cos(theta)\n",
    "    s = np.sin(theta)\n",
    "    x0 = c*rho\n",
    "    y0  = s*rho\n",
    "    print(\"x0, y0\", x0, y0)\n",
    "    x1 = int(x0 + 1000*(-s))\n",
    "    y1 = int(y0 + 1000*(c))\n",
    "    print(\"x1, y1\", x1, y1)\n",
    "    x2 = int(x0 - 1000*(-s))\n",
    "    y2 = int(y0 - 1000*(c))\n",
    "    print(\"x2, y2\", x2, y2)\n",
    "    cv2.line(src, (x1,y1), (x2,y2), (0,0,255), 2)\n",
    "\n",
    "cv2.imshow('src', src)\n",
    "cv2.imshow('edges', edges)\n",
    "cv2.waitKey()\n",
    "cv2.destroyAllWindows()"
   ]
  },
  {
   "cell_type": "code",
   "execution_count": 20,
   "id": "f8d2f5be",
   "metadata": {},
   "outputs": [],
   "source": [
    "src = cv2.imread('./data/building.jpg')\n",
    "\n",
    "gray = cv2.cvtColor(src, cv2.COLOR_BGR2GRAY)\n",
    "edges = cv2.Canny(gray, 50, 100)\n",
    "lines = cv2.HoughLines(edges, rho=1, theta=np.pi/180.0, threshold=150)"
   ]
  },
  {
   "cell_type": "code",
   "execution_count": 40,
   "id": "6c30d4d0",
   "metadata": {},
   "outputs": [],
   "source": [
    "src = cv2.imread('./data/building.jpg')\n",
    "\n",
    "gray = cv2.cvtColor(src, cv2.COLOR_BGR2GRAY)\n",
    "edges = cv2.Canny(gray, 50, 100)\n",
    "lines = cv2.HoughLinesP(edges, rho=1, theta=np.pi/180.0, threshold=160, minLineLength = 100, maxLineGap = 5)\n",
    "\n",
    "dst = cv2.cvtColor(edges, cv2.COLOR_GRAY2BGR)\n",
    "\n",
    "for line in lines:\n",
    "    x1, y1, x2, y2 = line[0]\n",
    "    cv2.line(dst, (x1,y1), (x2,y2), (0,0,255), 2)\n",
    "    \n",
    "cv2.imshow('src', src)\n",
    "cv2.imshow('dst', dst)\n",
    "cv2.waitKey()\n",
    "cv2.destroyAllWindows()    "
   ]
  },
  {
   "cell_type": "markdown",
   "id": "7a361e77",
   "metadata": {},
   "source": [
    "* 허프 변환 원검출"
   ]
  },
  {
   "cell_type": "code",
   "execution_count": 41,
   "id": "f6939a0d",
   "metadata": {},
   "outputs": [],
   "source": [
    "src = cv2.imread('./data/circles.jpg')\n",
    "gray = cv2.cvtColor(src, cv2.COLOR_BGR2GRAY)\n",
    "\n",
    "circles = cv2.HoughCircles(gray, method=cv2.HOUGH_GRADIENT, dp=1, minDist=50, param2=15)\n",
    "\n",
    "for circle in circles[0]:\n",
    "    cx, cy, r = circle\n",
    "    cv2.circle(src, (np.uint32(cx), np.uint32(cy)), np.uint32(r), (0,0,255), 2)\n",
    "\n",
    "cv2.imshow('src', src)\n",
    "cv2.waitKey()\n",
    "cv2.destroyAllWindows()    "
   ]
  },
  {
   "cell_type": "code",
   "execution_count": 62,
   "id": "d78167fc",
   "metadata": {},
   "outputs": [],
   "source": [
    "src = cv2.imread('./data/circles2.jpg')\n",
    "gray = cv2.cvtColor(src, cv2.COLOR_BGR2GRAY)\n",
    "\n",
    "circles = cv2.HoughCircles(gray, method=cv2.HOUGH_GRADIENT, dp=1, minDist=50, param2=15, minRadius= 40, maxRadius=80)\n",
    "\n",
    "for circle in circles[0]:\n",
    "    cx, cy, r = circle\n",
    "    cv2.circle(src, (np.uint32(cx), np.uint32(cy)), np.uint32(r), (0,0,255), 2)\n",
    "\n",
    "cv2.imshow('src', src)\n",
    "cv2.waitKey()\n",
    "cv2.destroyAllWindows()    "
   ]
  },
  {
   "cell_type": "code",
   "execution_count": 69,
   "id": "f4d2971d",
   "metadata": {},
   "outputs": [],
   "source": [
    "src = cv2.imread('./data/coins.png')\n",
    "gray = cv2.cvtColor(src, cv2.COLOR_BGR2GRAY)\n",
    "\n",
    "circles = cv2.HoughCircles(gray, method=cv2.HOUGH_GRADIENT, dp=1, minDist=50, param2=15, minRadius= 10, maxRadius=30)\n",
    "\n",
    "for circle in circles[0]:\n",
    "    cx, cy, r = circle\n",
    "    cv2.circle(src, (np.uint32(cx), np.uint32(cy)), np.uint32(r), (0,0,255), 2)\n",
    "\n",
    "cv2.imshow('src', src)\n",
    "cv2.waitKey()\n",
    "cv2.destroyAllWindows()    "
   ]
  },
  {
   "cell_type": "code",
   "execution_count": null,
   "id": "7db7f7f7",
   "metadata": {},
   "outputs": [],
   "source": []
  }
 ],
 "metadata": {
  "kernelspec": {
   "display_name": "Python 3",
   "language": "python",
   "name": "python3"
  },
  "language_info": {
   "codemirror_mode": {
    "name": "ipython",
    "version": 3
   },
   "file_extension": ".py",
   "mimetype": "text/x-python",
   "name": "python",
   "nbconvert_exporter": "python",
   "pygments_lexer": "ipython3",
   "version": "3.8.8"
  }
 },
 "nbformat": 4,
 "nbformat_minor": 5
}
